{
 "cells": [
  {
   "cell_type": "code",
   "execution_count": null,
   "metadata": {},
   "outputs": [],
   "source": [
    "import queue\n",
    "graph = {}\n",
    "def BFS(graph, root):\n",
    "    visited = {}\n",
    "    que = queue.Queue()\n",
    "    que.put(root)\n",
    "    \n",
    "    while que.qsize()>0:\n",
    "        node = que.get()\n",
    "        if node not in visited:\n",
    "            visited[node] = True\n",
    "            for nextNode in graph[node]:\n",
    "                que.put(nextNode)\n",
    "    return visited\n",
    "def DFS(graph, root):\n",
    "    visited = {}\n",
    "    stack = []\n",
    "    stack.append(root)\n",
    "    \n",
    "    while stack:\n",
    "        node = stack.pop()\n",
    "        if node not in visited:\n",
    "            visited[node] = True\n",
    "            for nextNode in graph[node]: # adjust to each problem !\n",
    "                stack.append(nextNode)   # \n",
    "    return visited\n"
   ]
  }
 ],
 "metadata": {
  "kernelspec": {
   "display_name": "Python 3",
   "language": "python",
   "name": "python3"
  },
  "language_info": {
   "codemirror_mode": {
    "name": "ipython",
    "version": 3
   },
   "file_extension": ".py",
   "mimetype": "text/x-python",
   "name": "python",
   "nbconvert_exporter": "python",
   "pygments_lexer": "ipython3",
   "version": "3.8.3"
  },
  "varInspector": {
   "cols": {
    "lenName": 16,
    "lenType": 16,
    "lenVar": 40
   },
   "kernels_config": {
    "python": {
     "delete_cmd_postfix": "",
     "delete_cmd_prefix": "del ",
     "library": "var_list.py",
     "varRefreshCmd": "print(var_dic_list())"
    },
    "r": {
     "delete_cmd_postfix": ") ",
     "delete_cmd_prefix": "rm(",
     "library": "var_list.r",
     "varRefreshCmd": "cat(var_dic_list()) "
    }
   },
   "types_to_exclude": [
    "module",
    "function",
    "builtin_function_or_method",
    "instance",
    "_Feature"
   ],
   "window_display": false
  }
 },
 "nbformat": 4,
 "nbformat_minor": 4
}
