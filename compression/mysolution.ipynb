{
 "cells": [
  {
   "cell_type": "code",
   "execution_count": 1,
   "metadata": {},
   "outputs": [],
   "source": [
    "msg = \"TOBEORNOTTOBEORTOBEORNOT\"\n",
    "hash_map = {}\n",
    "answer = []\n",
    "for i in range(26):\n",
    "    hash_map[chr(ord('A')+i)] = i+1 #init\n",
    "i = 0\n",
    "end = False\n",
    "while(i <= len(msg)-1):\n",
    "    Flag = False\n",
    "    w = msg[i]\n",
    "    val = hash_map[w]\n",
    "    if i+1 == len(msg): # i->last .., i is a word\n",
    "        answer.append(val)\n",
    "        break\n",
    "    c = msg[i+1]\n",
    "    k = i+2 # next of next\n",
    "    while(w+c in hash_map): \n",
    "        Flag = True\n",
    "        if k<=len(msg)-1: # valid index\n",
    "            val = hash_map[w+c]\n",
    "            w += c\n",
    "            c = msg[k]\n",
    "            k+=1\n",
    "        else:\n",
    "            answer.append(hash_map[w+c]) # in hash.. and end of chunk\n",
    "            end = True\n",
    "            break\n",
    "    if end:\n",
    "        break\n",
    "    answer.append(val)\n",
    "    i = k-1 if Flag else i+1\n",
    "    \n",
    "    hash_map[w+c] = len(hash_map)+1 # register"
   ]
  },
  {
   "cell_type": "code",
   "execution_count": 2,
   "metadata": {},
   "outputs": [
    {
     "data": {
      "text/plain": [
       "[20, 15, 2, 5, 15, 18, 14, 15, 20, 27, 29, 31, 36, 30, 32, 34]"
      ]
     },
     "execution_count": 2,
     "metadata": {},
     "output_type": "execute_result"
    }
   ],
   "source": [
    "answer"
   ]
  },
  {
   "cell_type": "code",
   "execution_count": null,
   "metadata": {},
   "outputs": [],
   "source": []
  }
 ],
 "metadata": {
  "kernelspec": {
   "display_name": "Python 3",
   "language": "python",
   "name": "python3"
  },
  "language_info": {
   "codemirror_mode": {
    "name": "ipython",
    "version": 3
   },
   "file_extension": ".py",
   "mimetype": "text/x-python",
   "name": "python",
   "nbconvert_exporter": "python",
   "pygments_lexer": "ipython3",
   "version": "3.8.3"
  },
  "varInspector": {
   "cols": {
    "lenName": 16,
    "lenType": 16,
    "lenVar": 40
   },
   "kernels_config": {
    "python": {
     "delete_cmd_postfix": "",
     "delete_cmd_prefix": "del ",
     "library": "var_list.py",
     "varRefreshCmd": "print(var_dic_list())"
    },
    "r": {
     "delete_cmd_postfix": ") ",
     "delete_cmd_prefix": "rm(",
     "library": "var_list.r",
     "varRefreshCmd": "cat(var_dic_list()) "
    }
   },
   "types_to_exclude": [
    "module",
    "function",
    "builtin_function_or_method",
    "instance",
    "_Feature"
   ],
   "window_display": false
  }
 },
 "nbformat": 4,
 "nbformat_minor": 4
}
