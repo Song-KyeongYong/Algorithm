{
 "cells": [
  {
   "cell_type": "code",
   "execution_count": null,
   "metadata": {},
   "outputs": [],
   "source": [
    "N = int(input())\n",
    "park = []\n",
    "\n",
    "for i in range(N):\n",
    "    park.append(list(map(int,input())))\n",
    "    \n",
    "visited = []\n",
    "for i in range(N):\n",
    "    temp = []\n",
    "    for j in range(N):\n",
    "        temp.append(False)\n",
    "    visited.append(temp)\n",
    "        \n",
    "operx = [-1,1,0,0]\n",
    "opery = [0,0,-1,1]\n",
    "cnt = []\n",
    "\n",
    "def DFS(i,j):\n",
    "    stack = []\n",
    "    count = 0\n",
    "    stack.append([i,j])\n",
    "    \n",
    "    while(stack):\n",
    "        p = stack.pop()\n",
    "        a, b = p[0], p[1]\n",
    "    \n",
    "        if visited[a][b]== False: # not visited\n",
    "            visited[a][b] = True #visited\n",
    "            count+=1\n",
    "            for l in range(4):\n",
    "                ax, ay = a+operx[l], b+opery[l]\n",
    "                if 0<=ax<N and 0<=ay<N and park[ax][ay]==1:\n",
    "                    stack.append([ax,ay])\n",
    "    if count!=0:\n",
    "        cnt.append(count)\n",
    "                \n",
    "for i in range(N):\n",
    "    for j in range(N):\n",
    "        if park[i][j]==1:\n",
    "            DFS(i,j)\n",
    "cnt.sort()\n",
    "print(len(cnt))\n",
    "for i in cnt:\n",
    "    print(i)"
   ]
  }
 ],
 "metadata": {
  "kernelspec": {
   "display_name": "Python 3",
   "language": "python",
   "name": "python3"
  },
  "language_info": {
   "codemirror_mode": {
    "name": "ipython",
    "version": 3
   },
   "file_extension": ".py",
   "mimetype": "text/x-python",
   "name": "python",
   "nbconvert_exporter": "python",
   "pygments_lexer": "ipython3",
   "version": "3.7.6"
  },
  "varInspector": {
   "cols": {
    "lenName": 16,
    "lenType": 16,
    "lenVar": 40
   },
   "kernels_config": {
    "python": {
     "delete_cmd_postfix": "",
     "delete_cmd_prefix": "del ",
     "library": "var_list.py",
     "varRefreshCmd": "print(var_dic_list())"
    },
    "r": {
     "delete_cmd_postfix": ") ",
     "delete_cmd_prefix": "rm(",
     "library": "var_list.r",
     "varRefreshCmd": "cat(var_dic_list()) "
    }
   },
   "types_to_exclude": [
    "module",
    "function",
    "builtin_function_or_method",
    "instance",
    "_Feature"
   ],
   "window_display": false
  }
 },
 "nbformat": 4,
 "nbformat_minor": 4
}
