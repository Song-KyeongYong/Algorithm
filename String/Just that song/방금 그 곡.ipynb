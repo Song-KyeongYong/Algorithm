{
 "cells": [
  {
   "cell_type": "code",
   "execution_count": 1,
   "metadata": {},
   "outputs": [],
   "source": [
    "def replace(m):\n",
    "    m = m.replace('A#','a')\n",
    "    m = m.replace('C#','c')\n",
    "    m = m.replace('D#','d')\n",
    "    m = m.replace('G#','g')\n",
    "    m = m.replace('F#','f') #init\n",
    "    return m\n",
    "\n",
    "def solution(m, musicinfos):\n",
    "    answer, musicinfo = [], []\n",
    "    for i in musicinfos:\n",
    "        musicinfo.append(i.split(','))\n",
    "    m = replace(m)\n",
    "    for i in musicinfo:\n",
    "        i[3] = replace(i[3])\n",
    "    for info in musicinfo:\n",
    "        h = int(info[1][:2])-int(info[0][:2])\n",
    "        t = int(info[1][3:])-int(info[0][3:])\n",
    "\n",
    "        if t<0:\n",
    "            h-=1\n",
    "            t+=60\n",
    "        n = 60*h+t \n",
    "        \n",
    "        music = \"\"\n",
    "        for i in range(n):\n",
    "            music+=info[3][i%len(info[3])]\n",
    "        if m in music:\n",
    "            answer.append([info[2],n])\n",
    "    if not answer:\n",
    "        return \"(None)\"\n",
    "    else:\n",
    "        max = answer[0][1]\n",
    "        result = answer[0][0]\n",
    "        for i in range(len(answer)):\n",
    "            if answer[i][1]>max:\n",
    "                max = answer[i][1]\n",
    "                result = answer[i][0]\n",
    "        return result"
   ]
  },
  {
   "cell_type": "code",
   "execution_count": null,
   "metadata": {},
   "outputs": [],
   "source": []
  }
 ],
 "metadata": {
  "kernelspec": {
   "display_name": "Python 3",
   "language": "python",
   "name": "python3"
  },
  "language_info": {
   "codemirror_mode": {
    "name": "ipython",
    "version": 3
   },
   "file_extension": ".py",
   "mimetype": "text/x-python",
   "name": "python",
   "nbconvert_exporter": "python",
   "pygments_lexer": "ipython3",
   "version": "3.8.3"
  },
  "varInspector": {
   "cols": {
    "lenName": 16,
    "lenType": 16,
    "lenVar": 40
   },
   "kernels_config": {
    "python": {
     "delete_cmd_postfix": "",
     "delete_cmd_prefix": "del ",
     "library": "var_list.py",
     "varRefreshCmd": "print(var_dic_list())"
    },
    "r": {
     "delete_cmd_postfix": ") ",
     "delete_cmd_prefix": "rm(",
     "library": "var_list.r",
     "varRefreshCmd": "cat(var_dic_list()) "
    }
   },
   "types_to_exclude": [
    "module",
    "function",
    "builtin_function_or_method",
    "instance",
    "_Feature"
   ],
   "window_display": false
  }
 },
 "nbformat": 4,
 "nbformat_minor": 4
}
