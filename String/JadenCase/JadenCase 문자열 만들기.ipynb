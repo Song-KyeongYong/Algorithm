{
 "cells": [
  {
   "cell_type": "code",
   "execution_count": 1,
   "metadata": {},
   "outputs": [],
   "source": [
    "def solution(s):\n",
    "    i, k, c = 0, 0, 0\n",
    "    answer = ''\n",
    "    buf = []\n",
    "    while(i < len(s)):  # buf check\n",
    "        if s[i] == ' ':\n",
    "            while(i+k < len(s) and s[i+k] == ' '):\n",
    "                c += 1\n",
    "                k += 1\n",
    "            buf.append(c)\n",
    "            i = i+k\n",
    "            c, k = 0, 0 #reset\n",
    "        else:\n",
    "            i += 1\n",
    "\n",
    "    s = s.split()\n",
    "    t = []\n",
    "    for i in s:\n",
    "        k = 0\n",
    "        while(k != len(i)):\n",
    "            if k == 0 and i[k].islower():\n",
    "                i = i[k].upper()+i[1:]\n",
    "            elif i[k].isupper() and k != 0:\n",
    "                i = i[:k] + i[k].lower() + i[k+1:]\n",
    "            k += 1\n",
    "        t.append(i)\n",
    "    for i in range(len(t)):\n",
    "        if i<len(buf):\n",
    "            buff = \"\"\n",
    "            for k in range(buf[i]):\n",
    "                buff += ' '\n",
    "            answer = answer + (t[i] + buff)\n",
    "        else:\n",
    "            answer += t[i]\n",
    "    return answer"
   ]
  }
 ],
 "metadata": {
  "kernelspec": {
   "display_name": "Python 3",
   "language": "python",
   "name": "python3"
  },
  "language_info": {
   "codemirror_mode": {
    "name": "ipython",
    "version": 3
   },
   "file_extension": ".py",
   "mimetype": "text/x-python",
   "name": "python",
   "nbconvert_exporter": "python",
   "pygments_lexer": "ipython3",
   "version": "3.8.3"
  },
  "varInspector": {
   "cols": {
    "lenName": 16,
    "lenType": 16,
    "lenVar": 40
   },
   "kernels_config": {
    "python": {
     "delete_cmd_postfix": "",
     "delete_cmd_prefix": "del ",
     "library": "var_list.py",
     "varRefreshCmd": "print(var_dic_list())"
    },
    "r": {
     "delete_cmd_postfix": ") ",
     "delete_cmd_prefix": "rm(",
     "library": "var_list.r",
     "varRefreshCmd": "cat(var_dic_list()) "
    }
   },
   "types_to_exclude": [
    "module",
    "function",
    "builtin_function_or_method",
    "instance",
    "_Feature"
   ],
   "window_display": false
  }
 },
 "nbformat": 4,
 "nbformat_minor": 4
}
