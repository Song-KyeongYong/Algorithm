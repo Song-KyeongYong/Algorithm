{
 "cells": [
  {
   "cell_type": "code",
   "execution_count": null,
   "metadata": {},
   "outputs": [],
   "source": [
    "from itertools import combinations\n",
    "\n",
    "N = len(relation[0])\n",
    "M = len(relation)\n",
    "index_list = []\n",
    "for i in range(N):\n",
    "    index_list.append(i)\n",
    "    \n",
    "key_set = set()\n",
    "answer_list = []\n",
    "temp_list = []\n",
    "for a in range(1, N+1): # combi 1~N\n",
    "    idx = list(combinations(index_list,a))\n",
    "    for i in idx: #tuple index combi\n",
    "        for k in range(M):\n",
    "            temp = \"\"\n",
    "            for j in i:\n",
    "                temp += relation[k][j]\n",
    "            key_set.add(temp)\n",
    "        if len(key_set) == M:\n",
    "            answer_list.append(set(i))\n",
    "        key_set = set()\n",
    "answer_list\n",
    " \n",
    "for k in range(M*M): # a lot ...\n",
    "    for i in answer_list:\n",
    "        for j in answer_list:\n",
    "            if i!=j and i&j == j:\n",
    "                if i in answer_list:\n",
    "                    answer_list.remove(i)\n",
    "answer_list"
   ]
  }
 ],
 "metadata": {
  "kernelspec": {
   "display_name": "Python 3",
   "language": "python",
   "name": "python3"
  },
  "language_info": {
   "codemirror_mode": {
    "name": "ipython",
    "version": 3
   },
   "file_extension": ".py",
   "mimetype": "text/x-python",
   "name": "python",
   "nbconvert_exporter": "python",
   "pygments_lexer": "ipython3",
   "version": "3.8.3"
  },
  "varInspector": {
   "cols": {
    "lenName": 16,
    "lenType": 16,
    "lenVar": 40
   },
   "kernels_config": {
    "python": {
     "delete_cmd_postfix": "",
     "delete_cmd_prefix": "del ",
     "library": "var_list.py",
     "varRefreshCmd": "print(var_dic_list())"
    },
    "r": {
     "delete_cmd_postfix": ") ",
     "delete_cmd_prefix": "rm(",
     "library": "var_list.r",
     "varRefreshCmd": "cat(var_dic_list()) "
    }
   },
   "types_to_exclude": [
    "module",
    "function",
    "builtin_function_or_method",
    "instance",
    "_Feature"
   ],
   "window_display": false
  }
 },
 "nbformat": 4,
 "nbformat_minor": 4
}
