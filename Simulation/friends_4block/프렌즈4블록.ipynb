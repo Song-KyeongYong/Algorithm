{
 "cells": [
  {
   "cell_type": "code",
   "execution_count": null,
   "metadata": {},
   "outputs": [],
   "source": [
    "m = 4 # height\n",
    "n = 5 # width\n",
    "board = [\"AAAAA\",\"AUUUA\",\"AUUAA\",\"AAAAA\"] # test case\n",
    "\n",
    "answer = 0\n",
    "dellist = []\n",
    "Flag = True\n",
    "boards = []\n",
    "for i in board:\n",
    "    boards.append(list(i))\n",
    "    \n",
    "while(Flag):\n",
    "    Flag = False # start\n",
    "    for i in range(m-1):\n",
    "        for j in range(n-1):\n",
    "            if (boards[i][j] != '*' and boards[i][j] == boards[i][j+1] and \n",
    "                    boards[i][j] == boards[i+1][j] and boards[i][j] == boards[i+1][j+1]):\n",
    "                Flag = True\n",
    "                for a in range(2):\n",
    "                    for b in range(2):\n",
    "                        if [i+a,j+b] not in dellist:\n",
    "                            dellist.append([i+a,j+b])\n",
    "    \n",
    "    answer += len(dellist)\n",
    "    while(dellist):\n",
    "        i, j = dellist.pop()\n",
    "        boards[i][j] = '*'\n",
    "    \n",
    "    for k in range(m):\n",
    "        for i in range(1,m):\n",
    "            for j in range(n):\n",
    "                if (boards[i][j] == '*'):\n",
    "                    boards[i][j], boards[i-1][j] = boards[i-1][j], boards[i][j]"
   ]
  }
 ],
 "metadata": {
  "kernelspec": {
   "display_name": "Python 3",
   "language": "python",
   "name": "python3"
  },
  "language_info": {
   "codemirror_mode": {
    "name": "ipython",
    "version": 3
   },
   "file_extension": ".py",
   "mimetype": "text/x-python",
   "name": "python",
   "nbconvert_exporter": "python",
   "pygments_lexer": "ipython3",
   "version": "3.8.3"
  },
  "varInspector": {
   "cols": {
    "lenName": 16,
    "lenType": 16,
    "lenVar": 40
   },
   "kernels_config": {
    "python": {
     "delete_cmd_postfix": "",
     "delete_cmd_prefix": "del ",
     "library": "var_list.py",
     "varRefreshCmd": "print(var_dic_list())"
    },
    "r": {
     "delete_cmd_postfix": ") ",
     "delete_cmd_prefix": "rm(",
     "library": "var_list.r",
     "varRefreshCmd": "cat(var_dic_list()) "
    }
   },
   "types_to_exclude": [
    "module",
    "function",
    "builtin_function_or_method",
    "instance",
    "_Feature"
   ],
   "window_display": false
  }
 },
 "nbformat": 4,
 "nbformat_minor": 4
}
