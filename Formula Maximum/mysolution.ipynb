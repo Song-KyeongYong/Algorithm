{
 "cells": [
  {
   "cell_type": "code",
   "execution_count": 91,
   "metadata": {},
   "outputs": [],
   "source": [
    "def operation(a, b, oper):\n",
    "    if oper=='*':\n",
    "        return a*b\n",
    "    elif oper=='+':\n",
    "        return a+b\n",
    "    else:\n",
    "        return a-b\n",
    "\n",
    "expression =  \"100-200*300-500+20\"\n",
    "answer = []\n",
    "\n",
    "stack = []\n",
    "oper = [[\"*\",\"+\",\"-\"],[\"*\",\"-\",\"+\"],[\"+\",\"*\",\"-\"],[\"+\",\"-\",\"*\"],[\"-\",\"+\",\"*\"],[\"-\",\"*\",\"+\"]]\n",
    "temp = \"\"\n",
    "\n",
    "for i in expression:\n",
    "    if i.isdigit(): # digit\n",
    "        temp +=i\n",
    "    else: \n",
    "        stack.append(int(temp))\n",
    "        temp =\"\"\n",
    "        stack.append(i)\n",
    "stack.append(int(temp)) # last\n",
    "\n",
    "tempt = stack[:] # copy\n",
    "for ops in oper: # oper case\n",
    "    result = 0\n",
    "    stack = tempt[:]\n",
    "    for op in ops: # each oper\n",
    "        t=0\n",
    "        while(t<len(stack)):\n",
    "            if stack[t] == op:\n",
    "                result = operation(stack[t-1],stack[t+1],op)\n",
    "                for k in range(3):\n",
    "                    stack.pop(t-1) # delete\n",
    "                stack.insert(t-1,result)\n",
    "                continue\n",
    "            t+=1\n",
    "    if stack[-1]<0:\n",
    "        answer.append(-1*stack[-1])\n",
    "    else:\n",
    "        answer.append(stack[-1])\n",
    "\n"
   ]
  }
 ],
 "metadata": {
  "kernelspec": {
   "display_name": "Python 3",
   "language": "python",
   "name": "python3"
  },
  "language_info": {
   "codemirror_mode": {
    "name": "ipython",
    "version": 3
   },
   "file_extension": ".py",
   "mimetype": "text/x-python",
   "name": "python",
   "nbconvert_exporter": "python",
   "pygments_lexer": "ipython3",
   "version": "3.7.6"
  }
 },
 "nbformat": 4,
 "nbformat_minor": 4
}
