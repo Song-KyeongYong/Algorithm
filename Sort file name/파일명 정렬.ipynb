{
 "cells": [
  {
   "cell_type": "code",
   "execution_count": 1,
   "metadata": {},
   "outputs": [],
   "source": [
    "def solution(files):\n",
    "    file, answer =[], []\n",
    "    for i in files:\n",
    "        head, numbers, tail = [], [], []\n",
    "        for k in range(len(i)):\n",
    "            if i[k].isdigit() and not head:\n",
    "                head.append(i[:k])\n",
    "                l = 0\n",
    "                while(k+l<len(i) and i[k+l].isdigit() and l != 5): # to max 5\n",
    "                    l+=1\n",
    "                numbers.append(i[k:k+l])\n",
    "                tail.append(i[k+l:])\n",
    "                file.append(head+numbers+tail)\n",
    "                break\n",
    "    result = sorted(file, key = lambda x:(x[0].upper(), int(x[1]))) # Alpha -> digit ..\n",
    "    for i in result:\n",
    "        answer.append(i[0]+i[1]+i[2])\n",
    "    return answer"
   ]
  },
  {
   "cell_type": "code",
   "execution_count": null,
   "metadata": {},
   "outputs": [],
   "source": []
  }
 ],
 "metadata": {
  "kernelspec": {
   "display_name": "Python 3",
   "language": "python",
   "name": "python3"
  },
  "language_info": {
   "codemirror_mode": {
    "name": "ipython",
    "version": 3
   },
   "file_extension": ".py",
   "mimetype": "text/x-python",
   "name": "python",
   "nbconvert_exporter": "python",
   "pygments_lexer": "ipython3",
   "version": "3.8.3"
  },
  "varInspector": {
   "cols": {
    "lenName": 16,
    "lenType": 16,
    "lenVar": 40
   },
   "kernels_config": {
    "python": {
     "delete_cmd_postfix": "",
     "delete_cmd_prefix": "del ",
     "library": "var_list.py",
     "varRefreshCmd": "print(var_dic_list())"
    },
    "r": {
     "delete_cmd_postfix": ") ",
     "delete_cmd_prefix": "rm(",
     "library": "var_list.r",
     "varRefreshCmd": "cat(var_dic_list()) "
    }
   },
   "types_to_exclude": [
    "module",
    "function",
    "builtin_function_or_method",
    "instance",
    "_Feature"
   ],
   "window_display": false
  }
 },
 "nbformat": 4,
 "nbformat_minor": 4
}
