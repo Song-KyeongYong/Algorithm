{
 "cells": [
  {
   "cell_type": "code",
   "execution_count": 21,
   "metadata": {},
   "outputs": [],
   "source": [
    "def convert(n, base):\n",
    "    H = \"0123456789ABCDEF\"\n",
    "    q, r = divmod(n, base)\n",
    "    if q==0:\n",
    "        return H[r]\n",
    "    else:\n",
    "        return convert(q,base) + H[r]\n",
    "\n",
    "def solution(n, t, m, p):\n",
    "    answer =\"\"\n",
    "    temp =\"\"\n",
    "\n",
    "    p -= 1 # index\n",
    "    for i in range(m*t):\n",
    "        temp+=convert(i,n)\n",
    "    while(len(answer)!=t):\n",
    "        answer+=temp[p]\n",
    "        p+=m\n",
    "    return answer\n"
   ]
  },
  {
   "cell_type": "code",
   "execution_count": 23,
   "metadata": {},
   "outputs": [
    {
     "data": {
      "text/plain": [
       "'E9'"
      ]
     },
     "execution_count": 23,
     "metadata": {},
     "output_type": "execute_result"
    }
   ],
   "source": [
    "convert(233,16)"
   ]
  },
  {
   "cell_type": "code",
   "execution_count": null,
   "metadata": {},
   "outputs": [],
   "source": []
  }
 ],
 "metadata": {
  "kernelspec": {
   "display_name": "Python 3",
   "language": "python",
   "name": "python3"
  },
  "language_info": {
   "codemirror_mode": {
    "name": "ipython",
    "version": 3
   },
   "file_extension": ".py",
   "mimetype": "text/x-python",
   "name": "python",
   "nbconvert_exporter": "python",
   "pygments_lexer": "ipython3",
   "version": "3.7.6"
  }
 },
 "nbformat": 4,
 "nbformat_minor": 4
}
